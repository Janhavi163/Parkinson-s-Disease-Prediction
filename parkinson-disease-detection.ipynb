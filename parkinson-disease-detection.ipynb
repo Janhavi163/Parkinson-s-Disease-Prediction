{
 "cells": [
  {
   "cell_type": "code",
   "execution_count": 2,
   "id": "ea9c122b",
   "metadata": {
    "_cell_guid": "b1076dfc-b9ad-4769-8c92-a6c4dae69d19",
    "_uuid": "8f2839f25d086af736a60e9eeb907d3b93b6e0e5",
    "execution": {
     "iopub.execute_input": "2024-07-09T05:48:10.086975Z",
     "iopub.status.busy": "2024-07-09T05:48:10.086499Z",
     "iopub.status.idle": "2024-07-09T05:48:11.142093Z",
     "shell.execute_reply": "2024-07-09T05:48:11.140599Z"
    },
    "papermill": {
     "duration": 1.069086,
     "end_time": "2024-07-09T05:48:11.144994",
     "exception": false,
     "start_time": "2024-07-09T05:48:10.075908",
     "status": "completed"
    },
    "tags": []
   },
   "outputs": [],
   "source": [
    "# This Python 3 environment comes with many helpful analytics libraries installed\n",
    "# It is defined by the kaggle/python Docker image: https://github.com/kaggle/docker-python\n",
    "# For example, here's several helpful packages to load\n",
    "\n",
    "import numpy as np # linear algebra\n",
    "import pandas as pd # data processing, CSV file I/O (e.g. pd.read_csv)\n",
    "\n",
    "# Input data files are available in the read-only \"../input/\" directory\n",
    "# For example, running this (by clicking run or pressing Shift+Enter) will list all files under the input directory\n",
    "\n",
    "import os\n",
    "for dirname, _, filenames in os.walk('/kaggle/input'):\n",
    "    for filename in filenames:\n",
    "        print(os.path.join(dirname, filename))\n",
    "\n",
    "# You can write up to 20GB to the current directory (/kaggle/working/) that gets preserved as output when you create a version using \"Save & Run All\" \n",
    "# You can also write temporary files to /kaggle/temp/, but they won't be saved outside of the current session"
   ]
  },
  {
   "cell_type": "code",
   "execution_count": 3,
   "id": "bf416772",
   "metadata": {
    "execution": {
     "iopub.execute_input": "2024-07-09T05:48:11.164278Z",
     "iopub.status.busy": "2024-07-09T05:48:11.163683Z",
     "iopub.status.idle": "2024-07-09T05:48:11.169471Z",
     "shell.execute_reply": "2024-07-09T05:48:11.168135Z"
    },
    "papermill": {
     "duration": 0.018471,
     "end_time": "2024-07-09T05:48:11.172087",
     "exception": false,
     "start_time": "2024-07-09T05:48:11.153616",
     "status": "completed"
    },
    "tags": []
   },
   "outputs": [],
   "source": [
    "import numpy as np\n",
    "import pandas as pd"
   ]
  },
  {
   "cell_type": "code",
   "execution_count": 4,
   "id": "9a699d77",
   "metadata": {
    "execution": {
     "iopub.execute_input": "2024-07-09T05:48:11.190889Z",
     "iopub.status.busy": "2024-07-09T05:48:11.190445Z",
     "iopub.status.idle": "2024-07-09T05:48:11.220565Z",
     "shell.execute_reply": "2024-07-09T05:48:11.219310Z"
    },
    "papermill": {
     "duration": 0.042841,
     "end_time": "2024-07-09T05:48:11.223496",
     "exception": false,
     "start_time": "2024-07-09T05:48:11.180655",
     "status": "completed"
    },
    "tags": []
   },
   "outputs": [],
   "source": [
    "parkinson=pd.read_csv('parkinsons.data')"
   ]
  },
  {
   "cell_type": "code",
   "execution_count": 5,
   "id": "5baad8b9",
   "metadata": {
    "execution": {
     "iopub.execute_input": "2024-07-09T05:48:11.242337Z",
     "iopub.status.busy": "2024-07-09T05:48:11.241920Z",
     "iopub.status.idle": "2024-07-09T05:48:11.290371Z",
     "shell.execute_reply": "2024-07-09T05:48:11.289125Z"
    },
    "papermill": {
     "duration": 0.061273,
     "end_time": "2024-07-09T05:48:11.293329",
     "exception": false,
     "start_time": "2024-07-09T05:48:11.232056",
     "status": "completed"
    },
    "tags": []
   },
   "outputs": [
    {
     "data": {
      "text/html": [
       "<div>\n",
       "<style scoped>\n",
       "    .dataframe tbody tr th:only-of-type {\n",
       "        vertical-align: middle;\n",
       "    }\n",
       "\n",
       "    .dataframe tbody tr th {\n",
       "        vertical-align: top;\n",
       "    }\n",
       "\n",
       "    .dataframe thead th {\n",
       "        text-align: right;\n",
       "    }\n",
       "</style>\n",
       "<table border=\"1\" class=\"dataframe\">\n",
       "  <thead>\n",
       "    <tr style=\"text-align: right;\">\n",
       "      <th></th>\n",
       "      <th>name</th>\n",
       "      <th>MDVP:Fo(Hz)</th>\n",
       "      <th>MDVP:Fhi(Hz)</th>\n",
       "      <th>MDVP:Flo(Hz)</th>\n",
       "      <th>MDVP:Jitter(%)</th>\n",
       "      <th>MDVP:Jitter(Abs)</th>\n",
       "      <th>MDVP:RAP</th>\n",
       "      <th>MDVP:PPQ</th>\n",
       "      <th>Jitter:DDP</th>\n",
       "      <th>MDVP:Shimmer</th>\n",
       "      <th>...</th>\n",
       "      <th>Shimmer:DDA</th>\n",
       "      <th>NHR</th>\n",
       "      <th>HNR</th>\n",
       "      <th>status</th>\n",
       "      <th>RPDE</th>\n",
       "      <th>DFA</th>\n",
       "      <th>spread1</th>\n",
       "      <th>spread2</th>\n",
       "      <th>D2</th>\n",
       "      <th>PPE</th>\n",
       "    </tr>\n",
       "  </thead>\n",
       "  <tbody>\n",
       "    <tr>\n",
       "      <th>0</th>\n",
       "      <td>phon_R01_S01_1</td>\n",
       "      <td>119.992</td>\n",
       "      <td>157.302</td>\n",
       "      <td>74.997</td>\n",
       "      <td>0.00784</td>\n",
       "      <td>0.00007</td>\n",
       "      <td>0.00370</td>\n",
       "      <td>0.00554</td>\n",
       "      <td>0.01109</td>\n",
       "      <td>0.04374</td>\n",
       "      <td>...</td>\n",
       "      <td>0.06545</td>\n",
       "      <td>0.02211</td>\n",
       "      <td>21.033</td>\n",
       "      <td>1</td>\n",
       "      <td>0.414783</td>\n",
       "      <td>0.815285</td>\n",
       "      <td>-4.813031</td>\n",
       "      <td>0.266482</td>\n",
       "      <td>2.301442</td>\n",
       "      <td>0.284654</td>\n",
       "    </tr>\n",
       "    <tr>\n",
       "      <th>1</th>\n",
       "      <td>phon_R01_S01_2</td>\n",
       "      <td>122.400</td>\n",
       "      <td>148.650</td>\n",
       "      <td>113.819</td>\n",
       "      <td>0.00968</td>\n",
       "      <td>0.00008</td>\n",
       "      <td>0.00465</td>\n",
       "      <td>0.00696</td>\n",
       "      <td>0.01394</td>\n",
       "      <td>0.06134</td>\n",
       "      <td>...</td>\n",
       "      <td>0.09403</td>\n",
       "      <td>0.01929</td>\n",
       "      <td>19.085</td>\n",
       "      <td>1</td>\n",
       "      <td>0.458359</td>\n",
       "      <td>0.819521</td>\n",
       "      <td>-4.075192</td>\n",
       "      <td>0.335590</td>\n",
       "      <td>2.486855</td>\n",
       "      <td>0.368674</td>\n",
       "    </tr>\n",
       "    <tr>\n",
       "      <th>2</th>\n",
       "      <td>phon_R01_S01_3</td>\n",
       "      <td>116.682</td>\n",
       "      <td>131.111</td>\n",
       "      <td>111.555</td>\n",
       "      <td>0.01050</td>\n",
       "      <td>0.00009</td>\n",
       "      <td>0.00544</td>\n",
       "      <td>0.00781</td>\n",
       "      <td>0.01633</td>\n",
       "      <td>0.05233</td>\n",
       "      <td>...</td>\n",
       "      <td>0.08270</td>\n",
       "      <td>0.01309</td>\n",
       "      <td>20.651</td>\n",
       "      <td>1</td>\n",
       "      <td>0.429895</td>\n",
       "      <td>0.825288</td>\n",
       "      <td>-4.443179</td>\n",
       "      <td>0.311173</td>\n",
       "      <td>2.342259</td>\n",
       "      <td>0.332634</td>\n",
       "    </tr>\n",
       "    <tr>\n",
       "      <th>3</th>\n",
       "      <td>phon_R01_S01_4</td>\n",
       "      <td>116.676</td>\n",
       "      <td>137.871</td>\n",
       "      <td>111.366</td>\n",
       "      <td>0.00997</td>\n",
       "      <td>0.00009</td>\n",
       "      <td>0.00502</td>\n",
       "      <td>0.00698</td>\n",
       "      <td>0.01505</td>\n",
       "      <td>0.05492</td>\n",
       "      <td>...</td>\n",
       "      <td>0.08771</td>\n",
       "      <td>0.01353</td>\n",
       "      <td>20.644</td>\n",
       "      <td>1</td>\n",
       "      <td>0.434969</td>\n",
       "      <td>0.819235</td>\n",
       "      <td>-4.117501</td>\n",
       "      <td>0.334147</td>\n",
       "      <td>2.405554</td>\n",
       "      <td>0.368975</td>\n",
       "    </tr>\n",
       "    <tr>\n",
       "      <th>4</th>\n",
       "      <td>phon_R01_S01_5</td>\n",
       "      <td>116.014</td>\n",
       "      <td>141.781</td>\n",
       "      <td>110.655</td>\n",
       "      <td>0.01284</td>\n",
       "      <td>0.00011</td>\n",
       "      <td>0.00655</td>\n",
       "      <td>0.00908</td>\n",
       "      <td>0.01966</td>\n",
       "      <td>0.06425</td>\n",
       "      <td>...</td>\n",
       "      <td>0.10470</td>\n",
       "      <td>0.01767</td>\n",
       "      <td>19.649</td>\n",
       "      <td>1</td>\n",
       "      <td>0.417356</td>\n",
       "      <td>0.823484</td>\n",
       "      <td>-3.747787</td>\n",
       "      <td>0.234513</td>\n",
       "      <td>2.332180</td>\n",
       "      <td>0.410335</td>\n",
       "    </tr>\n",
       "  </tbody>\n",
       "</table>\n",
       "<p>5 rows × 24 columns</p>\n",
       "</div>"
      ],
      "text/plain": [
       "             name  MDVP:Fo(Hz)  MDVP:Fhi(Hz)  MDVP:Flo(Hz)  MDVP:Jitter(%)  \\\n",
       "0  phon_R01_S01_1      119.992       157.302        74.997         0.00784   \n",
       "1  phon_R01_S01_2      122.400       148.650       113.819         0.00968   \n",
       "2  phon_R01_S01_3      116.682       131.111       111.555         0.01050   \n",
       "3  phon_R01_S01_4      116.676       137.871       111.366         0.00997   \n",
       "4  phon_R01_S01_5      116.014       141.781       110.655         0.01284   \n",
       "\n",
       "   MDVP:Jitter(Abs)  MDVP:RAP  MDVP:PPQ  Jitter:DDP  MDVP:Shimmer  ...  \\\n",
       "0           0.00007   0.00370   0.00554     0.01109       0.04374  ...   \n",
       "1           0.00008   0.00465   0.00696     0.01394       0.06134  ...   \n",
       "2           0.00009   0.00544   0.00781     0.01633       0.05233  ...   \n",
       "3           0.00009   0.00502   0.00698     0.01505       0.05492  ...   \n",
       "4           0.00011   0.00655   0.00908     0.01966       0.06425  ...   \n",
       "\n",
       "   Shimmer:DDA      NHR     HNR  status      RPDE       DFA   spread1  \\\n",
       "0      0.06545  0.02211  21.033       1  0.414783  0.815285 -4.813031   \n",
       "1      0.09403  0.01929  19.085       1  0.458359  0.819521 -4.075192   \n",
       "2      0.08270  0.01309  20.651       1  0.429895  0.825288 -4.443179   \n",
       "3      0.08771  0.01353  20.644       1  0.434969  0.819235 -4.117501   \n",
       "4      0.10470  0.01767  19.649       1  0.417356  0.823484 -3.747787   \n",
       "\n",
       "    spread2        D2       PPE  \n",
       "0  0.266482  2.301442  0.284654  \n",
       "1  0.335590  2.486855  0.368674  \n",
       "2  0.311173  2.342259  0.332634  \n",
       "3  0.334147  2.405554  0.368975  \n",
       "4  0.234513  2.332180  0.410335  \n",
       "\n",
       "[5 rows x 24 columns]"
      ]
     },
     "execution_count": 5,
     "metadata": {},
     "output_type": "execute_result"
    }
   ],
   "source": [
    "parkinson.head()"
   ]
  },
  {
   "cell_type": "code",
   "execution_count": 6,
   "id": "d63a6aee",
   "metadata": {
    "execution": {
     "iopub.execute_input": "2024-07-09T05:48:11.314219Z",
     "iopub.status.busy": "2024-07-09T05:48:11.312721Z",
     "iopub.status.idle": "2024-07-09T05:48:11.321533Z",
     "shell.execute_reply": "2024-07-09T05:48:11.320109Z"
    },
    "papermill": {
     "duration": 0.02195,
     "end_time": "2024-07-09T05:48:11.324217",
     "exception": false,
     "start_time": "2024-07-09T05:48:11.302267",
     "status": "completed"
    },
    "tags": []
   },
   "outputs": [
    {
     "data": {
      "text/plain": [
       "(195, 24)"
      ]
     },
     "execution_count": 6,
     "metadata": {},
     "output_type": "execute_result"
    }
   ],
   "source": [
    "parkinson.shape"
   ]
  },
  {
   "cell_type": "code",
   "execution_count": 7,
   "id": "a1b4c799",
   "metadata": {
    "execution": {
     "iopub.execute_input": "2024-07-09T05:48:11.344766Z",
     "iopub.status.busy": "2024-07-09T05:48:11.344365Z",
     "iopub.status.idle": "2024-07-09T05:48:11.356176Z",
     "shell.execute_reply": "2024-07-09T05:48:11.354854Z"
    },
    "papermill": {
     "duration": 0.025011,
     "end_time": "2024-07-09T05:48:11.358891",
     "exception": false,
     "start_time": "2024-07-09T05:48:11.333880",
     "status": "completed"
    },
    "tags": []
   },
   "outputs": [
    {
     "data": {
      "text/plain": [
       "name                0\n",
       "MDVP:Fo(Hz)         0\n",
       "MDVP:Fhi(Hz)        0\n",
       "MDVP:Flo(Hz)        0\n",
       "MDVP:Jitter(%)      0\n",
       "MDVP:Jitter(Abs)    0\n",
       "MDVP:RAP            0\n",
       "MDVP:PPQ            0\n",
       "Jitter:DDP          0\n",
       "MDVP:Shimmer        0\n",
       "MDVP:Shimmer(dB)    0\n",
       "Shimmer:APQ3        0\n",
       "Shimmer:APQ5        0\n",
       "MDVP:APQ            0\n",
       "Shimmer:DDA         0\n",
       "NHR                 0\n",
       "HNR                 0\n",
       "status              0\n",
       "RPDE                0\n",
       "DFA                 0\n",
       "spread1             0\n",
       "spread2             0\n",
       "D2                  0\n",
       "PPE                 0\n",
       "dtype: int64"
      ]
     },
     "execution_count": 7,
     "metadata": {},
     "output_type": "execute_result"
    }
   ],
   "source": [
    "parkinson.isnull().sum()"
   ]
  },
  {
   "cell_type": "code",
   "execution_count": 8,
   "id": "eb74c113",
   "metadata": {
    "execution": {
     "iopub.execute_input": "2024-07-09T05:48:11.379269Z",
     "iopub.status.busy": "2024-07-09T05:48:11.378817Z",
     "iopub.status.idle": "2024-07-09T05:48:11.395041Z",
     "shell.execute_reply": "2024-07-09T05:48:11.393754Z"
    },
    "papermill": {
     "duration": 0.029584,
     "end_time": "2024-07-09T05:48:11.397767",
     "exception": false,
     "start_time": "2024-07-09T05:48:11.368183",
     "status": "completed"
    },
    "tags": []
   },
   "outputs": [
    {
     "data": {
      "text/plain": [
       "0"
      ]
     },
     "execution_count": 8,
     "metadata": {},
     "output_type": "execute_result"
    }
   ],
   "source": [
    "parkinson.duplicated().sum()\n"
   ]
  },
  {
   "cell_type": "code",
   "execution_count": 9,
   "id": "86fdb0c3",
   "metadata": {
    "execution": {
     "iopub.execute_input": "2024-07-09T05:48:11.418595Z",
     "iopub.status.busy": "2024-07-09T05:48:11.418160Z",
     "iopub.status.idle": "2024-07-09T05:48:11.437635Z",
     "shell.execute_reply": "2024-07-09T05:48:11.436464Z"
    },
    "papermill": {
     "duration": 0.033322,
     "end_time": "2024-07-09T05:48:11.440401",
     "exception": false,
     "start_time": "2024-07-09T05:48:11.407079",
     "status": "completed"
    },
    "tags": []
   },
   "outputs": [
    {
     "name": "stdout",
     "output_type": "stream",
     "text": [
      "<class 'pandas.core.frame.DataFrame'>\n",
      "RangeIndex: 195 entries, 0 to 194\n",
      "Data columns (total 24 columns):\n",
      " #   Column            Non-Null Count  Dtype  \n",
      "---  ------            --------------  -----  \n",
      " 0   name              195 non-null    object \n",
      " 1   MDVP:Fo(Hz)       195 non-null    float64\n",
      " 2   MDVP:Fhi(Hz)      195 non-null    float64\n",
      " 3   MDVP:Flo(Hz)      195 non-null    float64\n",
      " 4   MDVP:Jitter(%)    195 non-null    float64\n",
      " 5   MDVP:Jitter(Abs)  195 non-null    float64\n",
      " 6   MDVP:RAP          195 non-null    float64\n",
      " 7   MDVP:PPQ          195 non-null    float64\n",
      " 8   Jitter:DDP        195 non-null    float64\n",
      " 9   MDVP:Shimmer      195 non-null    float64\n",
      " 10  MDVP:Shimmer(dB)  195 non-null    float64\n",
      " 11  Shimmer:APQ3      195 non-null    float64\n",
      " 12  Shimmer:APQ5      195 non-null    float64\n",
      " 13  MDVP:APQ          195 non-null    float64\n",
      " 14  Shimmer:DDA       195 non-null    float64\n",
      " 15  NHR               195 non-null    float64\n",
      " 16  HNR               195 non-null    float64\n",
      " 17  status            195 non-null    int64  \n",
      " 18  RPDE              195 non-null    float64\n",
      " 19  DFA               195 non-null    float64\n",
      " 20  spread1           195 non-null    float64\n",
      " 21  spread2           195 non-null    float64\n",
      " 22  D2                195 non-null    float64\n",
      " 23  PPE               195 non-null    float64\n",
      "dtypes: float64(22), int64(1), object(1)\n",
      "memory usage: 36.7+ KB\n"
     ]
    }
   ],
   "source": [
    "parkinson.info()"
   ]
  },
  {
   "cell_type": "code",
   "execution_count": 10,
   "id": "c22b8a0d",
   "metadata": {
    "execution": {
     "iopub.execute_input": "2024-07-09T05:48:11.461156Z",
     "iopub.status.busy": "2024-07-09T05:48:11.460742Z",
     "iopub.status.idle": "2024-07-09T05:48:11.545971Z",
     "shell.execute_reply": "2024-07-09T05:48:11.544530Z"
    },
    "papermill": {
     "duration": 0.099145,
     "end_time": "2024-07-09T05:48:11.548950",
     "exception": false,
     "start_time": "2024-07-09T05:48:11.449805",
     "status": "completed"
    },
    "tags": []
   },
   "outputs": [
    {
     "data": {
      "text/html": [
       "<div>\n",
       "<style scoped>\n",
       "    .dataframe tbody tr th:only-of-type {\n",
       "        vertical-align: middle;\n",
       "    }\n",
       "\n",
       "    .dataframe tbody tr th {\n",
       "        vertical-align: top;\n",
       "    }\n",
       "\n",
       "    .dataframe thead th {\n",
       "        text-align: right;\n",
       "    }\n",
       "</style>\n",
       "<table border=\"1\" class=\"dataframe\">\n",
       "  <thead>\n",
       "    <tr style=\"text-align: right;\">\n",
       "      <th></th>\n",
       "      <th>MDVP:Fo(Hz)</th>\n",
       "      <th>MDVP:Fhi(Hz)</th>\n",
       "      <th>MDVP:Flo(Hz)</th>\n",
       "      <th>MDVP:Jitter(%)</th>\n",
       "      <th>MDVP:Jitter(Abs)</th>\n",
       "      <th>MDVP:RAP</th>\n",
       "      <th>MDVP:PPQ</th>\n",
       "      <th>Jitter:DDP</th>\n",
       "      <th>MDVP:Shimmer</th>\n",
       "      <th>MDVP:Shimmer(dB)</th>\n",
       "      <th>...</th>\n",
       "      <th>Shimmer:DDA</th>\n",
       "      <th>NHR</th>\n",
       "      <th>HNR</th>\n",
       "      <th>status</th>\n",
       "      <th>RPDE</th>\n",
       "      <th>DFA</th>\n",
       "      <th>spread1</th>\n",
       "      <th>spread2</th>\n",
       "      <th>D2</th>\n",
       "      <th>PPE</th>\n",
       "    </tr>\n",
       "  </thead>\n",
       "  <tbody>\n",
       "    <tr>\n",
       "      <th>count</th>\n",
       "      <td>195.000000</td>\n",
       "      <td>195.000000</td>\n",
       "      <td>195.000000</td>\n",
       "      <td>195.000000</td>\n",
       "      <td>195.000000</td>\n",
       "      <td>195.000000</td>\n",
       "      <td>195.000000</td>\n",
       "      <td>195.000000</td>\n",
       "      <td>195.000000</td>\n",
       "      <td>195.000000</td>\n",
       "      <td>...</td>\n",
       "      <td>195.000000</td>\n",
       "      <td>195.000000</td>\n",
       "      <td>195.000000</td>\n",
       "      <td>195.000000</td>\n",
       "      <td>195.000000</td>\n",
       "      <td>195.000000</td>\n",
       "      <td>195.000000</td>\n",
       "      <td>195.000000</td>\n",
       "      <td>195.000000</td>\n",
       "      <td>195.000000</td>\n",
       "    </tr>\n",
       "    <tr>\n",
       "      <th>mean</th>\n",
       "      <td>154.228641</td>\n",
       "      <td>197.104918</td>\n",
       "      <td>116.324631</td>\n",
       "      <td>0.006220</td>\n",
       "      <td>0.000044</td>\n",
       "      <td>0.003306</td>\n",
       "      <td>0.003446</td>\n",
       "      <td>0.009920</td>\n",
       "      <td>0.029709</td>\n",
       "      <td>0.282251</td>\n",
       "      <td>...</td>\n",
       "      <td>0.046993</td>\n",
       "      <td>0.024847</td>\n",
       "      <td>21.885974</td>\n",
       "      <td>0.753846</td>\n",
       "      <td>0.498536</td>\n",
       "      <td>0.718099</td>\n",
       "      <td>-5.684397</td>\n",
       "      <td>0.226510</td>\n",
       "      <td>2.381826</td>\n",
       "      <td>0.206552</td>\n",
       "    </tr>\n",
       "    <tr>\n",
       "      <th>std</th>\n",
       "      <td>41.390065</td>\n",
       "      <td>91.491548</td>\n",
       "      <td>43.521413</td>\n",
       "      <td>0.004848</td>\n",
       "      <td>0.000035</td>\n",
       "      <td>0.002968</td>\n",
       "      <td>0.002759</td>\n",
       "      <td>0.008903</td>\n",
       "      <td>0.018857</td>\n",
       "      <td>0.194877</td>\n",
       "      <td>...</td>\n",
       "      <td>0.030459</td>\n",
       "      <td>0.040418</td>\n",
       "      <td>4.425764</td>\n",
       "      <td>0.431878</td>\n",
       "      <td>0.103942</td>\n",
       "      <td>0.055336</td>\n",
       "      <td>1.090208</td>\n",
       "      <td>0.083406</td>\n",
       "      <td>0.382799</td>\n",
       "      <td>0.090119</td>\n",
       "    </tr>\n",
       "    <tr>\n",
       "      <th>min</th>\n",
       "      <td>88.333000</td>\n",
       "      <td>102.145000</td>\n",
       "      <td>65.476000</td>\n",
       "      <td>0.001680</td>\n",
       "      <td>0.000007</td>\n",
       "      <td>0.000680</td>\n",
       "      <td>0.000920</td>\n",
       "      <td>0.002040</td>\n",
       "      <td>0.009540</td>\n",
       "      <td>0.085000</td>\n",
       "      <td>...</td>\n",
       "      <td>0.013640</td>\n",
       "      <td>0.000650</td>\n",
       "      <td>8.441000</td>\n",
       "      <td>0.000000</td>\n",
       "      <td>0.256570</td>\n",
       "      <td>0.574282</td>\n",
       "      <td>-7.964984</td>\n",
       "      <td>0.006274</td>\n",
       "      <td>1.423287</td>\n",
       "      <td>0.044539</td>\n",
       "    </tr>\n",
       "    <tr>\n",
       "      <th>25%</th>\n",
       "      <td>117.572000</td>\n",
       "      <td>134.862500</td>\n",
       "      <td>84.291000</td>\n",
       "      <td>0.003460</td>\n",
       "      <td>0.000020</td>\n",
       "      <td>0.001660</td>\n",
       "      <td>0.001860</td>\n",
       "      <td>0.004985</td>\n",
       "      <td>0.016505</td>\n",
       "      <td>0.148500</td>\n",
       "      <td>...</td>\n",
       "      <td>0.024735</td>\n",
       "      <td>0.005925</td>\n",
       "      <td>19.198000</td>\n",
       "      <td>1.000000</td>\n",
       "      <td>0.421306</td>\n",
       "      <td>0.674758</td>\n",
       "      <td>-6.450096</td>\n",
       "      <td>0.174351</td>\n",
       "      <td>2.099125</td>\n",
       "      <td>0.137451</td>\n",
       "    </tr>\n",
       "    <tr>\n",
       "      <th>50%</th>\n",
       "      <td>148.790000</td>\n",
       "      <td>175.829000</td>\n",
       "      <td>104.315000</td>\n",
       "      <td>0.004940</td>\n",
       "      <td>0.000030</td>\n",
       "      <td>0.002500</td>\n",
       "      <td>0.002690</td>\n",
       "      <td>0.007490</td>\n",
       "      <td>0.022970</td>\n",
       "      <td>0.221000</td>\n",
       "      <td>...</td>\n",
       "      <td>0.038360</td>\n",
       "      <td>0.011660</td>\n",
       "      <td>22.085000</td>\n",
       "      <td>1.000000</td>\n",
       "      <td>0.495954</td>\n",
       "      <td>0.722254</td>\n",
       "      <td>-5.720868</td>\n",
       "      <td>0.218885</td>\n",
       "      <td>2.361532</td>\n",
       "      <td>0.194052</td>\n",
       "    </tr>\n",
       "    <tr>\n",
       "      <th>75%</th>\n",
       "      <td>182.769000</td>\n",
       "      <td>224.205500</td>\n",
       "      <td>140.018500</td>\n",
       "      <td>0.007365</td>\n",
       "      <td>0.000060</td>\n",
       "      <td>0.003835</td>\n",
       "      <td>0.003955</td>\n",
       "      <td>0.011505</td>\n",
       "      <td>0.037885</td>\n",
       "      <td>0.350000</td>\n",
       "      <td>...</td>\n",
       "      <td>0.060795</td>\n",
       "      <td>0.025640</td>\n",
       "      <td>25.075500</td>\n",
       "      <td>1.000000</td>\n",
       "      <td>0.587562</td>\n",
       "      <td>0.761881</td>\n",
       "      <td>-5.046192</td>\n",
       "      <td>0.279234</td>\n",
       "      <td>2.636456</td>\n",
       "      <td>0.252980</td>\n",
       "    </tr>\n",
       "    <tr>\n",
       "      <th>max</th>\n",
       "      <td>260.105000</td>\n",
       "      <td>592.030000</td>\n",
       "      <td>239.170000</td>\n",
       "      <td>0.033160</td>\n",
       "      <td>0.000260</td>\n",
       "      <td>0.021440</td>\n",
       "      <td>0.019580</td>\n",
       "      <td>0.064330</td>\n",
       "      <td>0.119080</td>\n",
       "      <td>1.302000</td>\n",
       "      <td>...</td>\n",
       "      <td>0.169420</td>\n",
       "      <td>0.314820</td>\n",
       "      <td>33.047000</td>\n",
       "      <td>1.000000</td>\n",
       "      <td>0.685151</td>\n",
       "      <td>0.825288</td>\n",
       "      <td>-2.434031</td>\n",
       "      <td>0.450493</td>\n",
       "      <td>3.671155</td>\n",
       "      <td>0.527367</td>\n",
       "    </tr>\n",
       "  </tbody>\n",
       "</table>\n",
       "<p>8 rows × 23 columns</p>\n",
       "</div>"
      ],
      "text/plain": [
       "       MDVP:Fo(Hz)  MDVP:Fhi(Hz)  MDVP:Flo(Hz)  MDVP:Jitter(%)  \\\n",
       "count   195.000000    195.000000    195.000000      195.000000   \n",
       "mean    154.228641    197.104918    116.324631        0.006220   \n",
       "std      41.390065     91.491548     43.521413        0.004848   \n",
       "min      88.333000    102.145000     65.476000        0.001680   \n",
       "25%     117.572000    134.862500     84.291000        0.003460   \n",
       "50%     148.790000    175.829000    104.315000        0.004940   \n",
       "75%     182.769000    224.205500    140.018500        0.007365   \n",
       "max     260.105000    592.030000    239.170000        0.033160   \n",
       "\n",
       "       MDVP:Jitter(Abs)    MDVP:RAP    MDVP:PPQ  Jitter:DDP  MDVP:Shimmer  \\\n",
       "count        195.000000  195.000000  195.000000  195.000000    195.000000   \n",
       "mean           0.000044    0.003306    0.003446    0.009920      0.029709   \n",
       "std            0.000035    0.002968    0.002759    0.008903      0.018857   \n",
       "min            0.000007    0.000680    0.000920    0.002040      0.009540   \n",
       "25%            0.000020    0.001660    0.001860    0.004985      0.016505   \n",
       "50%            0.000030    0.002500    0.002690    0.007490      0.022970   \n",
       "75%            0.000060    0.003835    0.003955    0.011505      0.037885   \n",
       "max            0.000260    0.021440    0.019580    0.064330      0.119080   \n",
       "\n",
       "       MDVP:Shimmer(dB)  ...  Shimmer:DDA         NHR         HNR      status  \\\n",
       "count        195.000000  ...   195.000000  195.000000  195.000000  195.000000   \n",
       "mean           0.282251  ...     0.046993    0.024847   21.885974    0.753846   \n",
       "std            0.194877  ...     0.030459    0.040418    4.425764    0.431878   \n",
       "min            0.085000  ...     0.013640    0.000650    8.441000    0.000000   \n",
       "25%            0.148500  ...     0.024735    0.005925   19.198000    1.000000   \n",
       "50%            0.221000  ...     0.038360    0.011660   22.085000    1.000000   \n",
       "75%            0.350000  ...     0.060795    0.025640   25.075500    1.000000   \n",
       "max            1.302000  ...     0.169420    0.314820   33.047000    1.000000   \n",
       "\n",
       "             RPDE         DFA     spread1     spread2          D2         PPE  \n",
       "count  195.000000  195.000000  195.000000  195.000000  195.000000  195.000000  \n",
       "mean     0.498536    0.718099   -5.684397    0.226510    2.381826    0.206552  \n",
       "std      0.103942    0.055336    1.090208    0.083406    0.382799    0.090119  \n",
       "min      0.256570    0.574282   -7.964984    0.006274    1.423287    0.044539  \n",
       "25%      0.421306    0.674758   -6.450096    0.174351    2.099125    0.137451  \n",
       "50%      0.495954    0.722254   -5.720868    0.218885    2.361532    0.194052  \n",
       "75%      0.587562    0.761881   -5.046192    0.279234    2.636456    0.252980  \n",
       "max      0.685151    0.825288   -2.434031    0.450493    3.671155    0.527367  \n",
       "\n",
       "[8 rows x 23 columns]"
      ]
     },
     "execution_count": 10,
     "metadata": {},
     "output_type": "execute_result"
    }
   ],
   "source": [
    "parkinson.describe()"
   ]
  },
  {
   "cell_type": "code",
   "execution_count": 11,
   "id": "029716a2",
   "metadata": {
    "execution": {
     "iopub.execute_input": "2024-07-09T05:48:11.571742Z",
     "iopub.status.busy": "2024-07-09T05:48:11.570486Z",
     "iopub.status.idle": "2024-07-09T05:48:11.583488Z",
     "shell.execute_reply": "2024-07-09T05:48:11.582057Z"
    },
    "papermill": {
     "duration": 0.027109,
     "end_time": "2024-07-09T05:48:11.586249",
     "exception": false,
     "start_time": "2024-07-09T05:48:11.559140",
     "status": "completed"
    },
    "tags": []
   },
   "outputs": [
    {
     "data": {
      "text/plain": [
       "status\n",
       "1    147\n",
       "0     48\n",
       "Name: count, dtype: int64"
      ]
     },
     "execution_count": 11,
     "metadata": {},
     "output_type": "execute_result"
    }
   ],
   "source": [
    "parkinson['status'].value_counts()"
   ]
  },
  {
   "cell_type": "code",
   "execution_count": 12,
   "id": "66475de3",
   "metadata": {
    "execution": {
     "iopub.execute_input": "2024-07-09T05:48:11.608416Z",
     "iopub.status.busy": "2024-07-09T05:48:11.607964Z",
     "iopub.status.idle": "2024-07-09T05:48:11.615625Z",
     "shell.execute_reply": "2024-07-09T05:48:11.614126Z"
    },
    "papermill": {
     "duration": 0.022062,
     "end_time": "2024-07-09T05:48:11.618532",
     "exception": false,
     "start_time": "2024-07-09T05:48:11.596470",
     "status": "completed"
    },
    "tags": []
   },
   "outputs": [],
   "source": [
    "X=parkinson.drop(['status','name'],axis=1)\n",
    "Y=parkinson['status']\n",
    "#print(X)\n",
    "#print(Y)"
   ]
  },
  {
   "cell_type": "code",
   "execution_count": 13,
   "id": "08fe0efa",
   "metadata": {
    "execution": {
     "iopub.execute_input": "2024-07-09T05:48:11.641012Z",
     "iopub.status.busy": "2024-07-09T05:48:11.640589Z",
     "iopub.status.idle": "2024-07-09T05:48:11.648309Z",
     "shell.execute_reply": "2024-07-09T05:48:11.646966Z"
    },
    "papermill": {
     "duration": 0.022483,
     "end_time": "2024-07-09T05:48:11.651320",
     "exception": false,
     "start_time": "2024-07-09T05:48:11.628837",
     "status": "completed"
    },
    "tags": []
   },
   "outputs": [
    {
     "data": {
      "text/plain": [
       "(195, 22)"
      ]
     },
     "execution_count": 13,
     "metadata": {},
     "output_type": "execute_result"
    }
   ],
   "source": [
    "X.shape"
   ]
  },
  {
   "cell_type": "code",
   "execution_count": 14,
   "id": "30294846",
   "metadata": {
    "execution": {
     "iopub.execute_input": "2024-07-09T05:48:11.673869Z",
     "iopub.status.busy": "2024-07-09T05:48:11.673439Z",
     "iopub.status.idle": "2024-07-09T05:48:11.680372Z",
     "shell.execute_reply": "2024-07-09T05:48:11.679185Z"
    },
    "papermill": {
     "duration": 0.02116,
     "end_time": "2024-07-09T05:48:11.682806",
     "exception": false,
     "start_time": "2024-07-09T05:48:11.661646",
     "status": "completed"
    },
    "tags": []
   },
   "outputs": [
    {
     "data": {
      "text/plain": [
       "(195,)"
      ]
     },
     "execution_count": 14,
     "metadata": {},
     "output_type": "execute_result"
    }
   ],
   "source": [
    "Y.shape"
   ]
  },
  {
   "cell_type": "code",
   "execution_count": 15,
   "id": "217fbe92",
   "metadata": {
    "execution": {
     "iopub.execute_input": "2024-07-09T05:48:11.707288Z",
     "iopub.status.busy": "2024-07-09T05:48:11.706145Z",
     "iopub.status.idle": "2024-07-09T05:48:13.248739Z",
     "shell.execute_reply": "2024-07-09T05:48:13.247369Z"
    },
    "papermill": {
     "duration": 1.558134,
     "end_time": "2024-07-09T05:48:13.251659",
     "exception": false,
     "start_time": "2024-07-09T05:48:11.693525",
     "status": "completed"
    },
    "tags": []
   },
   "outputs": [],
   "source": [
    "from sklearn.model_selection import train_test_split"
   ]
  },
  {
   "cell_type": "code",
   "execution_count": 16,
   "id": "f806bf63",
   "metadata": {
    "execution": {
     "iopub.execute_input": "2024-07-09T05:48:13.274751Z",
     "iopub.status.busy": "2024-07-09T05:48:13.274317Z",
     "iopub.status.idle": "2024-07-09T05:48:13.285104Z",
     "shell.execute_reply": "2024-07-09T05:48:13.283707Z"
    },
    "papermill": {
     "duration": 0.025363,
     "end_time": "2024-07-09T05:48:13.287879",
     "exception": false,
     "start_time": "2024-07-09T05:48:13.262516",
     "status": "completed"
    },
    "tags": []
   },
   "outputs": [],
   "source": [
    "X_train,X_test,y_train,y_test=train_test_split(X,Y,test_size=0.2,random_state=2)"
   ]
  },
  {
   "cell_type": "code",
   "execution_count": 17,
   "id": "c51d6fd2",
   "metadata": {
    "execution": {
     "iopub.execute_input": "2024-07-09T05:48:13.311207Z",
     "iopub.status.busy": "2024-07-09T05:48:13.310752Z",
     "iopub.status.idle": "2024-07-09T05:48:13.316794Z",
     "shell.execute_reply": "2024-07-09T05:48:13.315479Z"
    },
    "papermill": {
     "duration": 0.020496,
     "end_time": "2024-07-09T05:48:13.319503",
     "exception": false,
     "start_time": "2024-07-09T05:48:13.299007",
     "status": "completed"
    },
    "tags": []
   },
   "outputs": [],
   "source": [
    "from sklearn.preprocessing import StandardScaler\n",
    "scalar = StandardScaler()"
   ]
  },
  {
   "cell_type": "code",
   "execution_count": 18,
   "id": "edc82983",
   "metadata": {
    "execution": {
     "iopub.execute_input": "2024-07-09T05:48:13.342204Z",
     "iopub.status.busy": "2024-07-09T05:48:13.341800Z",
     "iopub.status.idle": "2024-07-09T05:48:13.357800Z",
     "shell.execute_reply": "2024-07-09T05:48:13.356542Z"
    },
    "papermill": {
     "duration": 0.030348,
     "end_time": "2024-07-09T05:48:13.360314",
     "exception": false,
     "start_time": "2024-07-09T05:48:13.329966",
     "status": "completed"
    },
    "tags": []
   },
   "outputs": [
    {
     "data": {
      "text/plain": [
       "array([[ 0.63239631, -0.02731081, -0.87985049, ..., -0.97586547,\n",
       "        -0.55160318,  0.07769494],\n",
       "       [-1.05512719, -0.83337041, -0.9284778 , ...,  0.3981808 ,\n",
       "        -0.61014073,  0.39291782],\n",
       "       [ 0.02996187, -0.29531068, -1.12211107, ..., -0.43937044,\n",
       "        -0.62849605, -0.50948408],\n",
       "       ...,\n",
       "       [-0.9096785 , -0.6637302 , -0.160638  , ...,  1.22001022,\n",
       "        -0.47404629, -0.2159482 ],\n",
       "       [-0.35977689,  0.19731822, -0.79063679, ..., -0.17896029,\n",
       "        -0.47272835,  0.28181221],\n",
       "       [ 1.01957066,  0.19922317, -0.61914972, ..., -0.716232  ,\n",
       "         1.23632066, -0.05829386]])"
      ]
     },
     "execution_count": 18,
     "metadata": {},
     "output_type": "execute_result"
    }
   ],
   "source": [
    "scalar.fit(X_train)\n",
    "X_train=scalar.transform(X_train)\n",
    "X_test=scalar.transform(X_test)\n",
    "X_train"
   ]
  },
  {
   "cell_type": "code",
   "execution_count": 19,
   "id": "b5ad7b49",
   "metadata": {
    "execution": {
     "iopub.execute_input": "2024-07-09T05:48:13.383896Z",
     "iopub.status.busy": "2024-07-09T05:48:13.383471Z",
     "iopub.status.idle": "2024-07-09T05:48:13.783044Z",
     "shell.execute_reply": "2024-07-09T05:48:13.781756Z"
    },
    "papermill": {
     "duration": 0.415083,
     "end_time": "2024-07-09T05:48:13.786128",
     "exception": false,
     "start_time": "2024-07-09T05:48:13.371045",
     "status": "completed"
    },
    "tags": []
   },
   "outputs": [],
   "source": [
    "from sklearn.svm import SVC\n",
    "from sklearn.tree import DecisionTreeClassifier\n",
    "from sklearn.naive_bayes import GaussianNB\n",
    "from sklearn.linear_model import LogisticRegression\n",
    "from sklearn.ensemble import RandomForestClassifier\n",
    "from sklearn.neighbors import KNeighborsClassifier\n",
    "from sklearn.metrics import accuracy_score,classification_report"
   ]
  },
  {
   "cell_type": "code",
   "execution_count": 20,
   "id": "7edce5aa",
   "metadata": {
    "execution": {
     "iopub.execute_input": "2024-07-09T05:48:13.809299Z",
     "iopub.status.busy": "2024-07-09T05:48:13.808870Z",
     "iopub.status.idle": "2024-07-09T05:48:14.163733Z",
     "shell.execute_reply": "2024-07-09T05:48:14.162214Z"
    },
    "papermill": {
     "duration": 0.370261,
     "end_time": "2024-07-09T05:48:14.167145",
     "exception": false,
     "start_time": "2024-07-09T05:48:13.796884",
     "status": "completed"
    },
    "tags": []
   },
   "outputs": [
    {
     "name": "stdout",
     "output_type": "stream",
     "text": [
      "svc with accuracy 0.8974358974358975\n",
      "dtc with accuracy 0.717948717948718\n",
      "gnb with accuracy 0.6153846153846154\n",
      "lr with accuracy 0.8205128205128205\n",
      "rfc with accuracy 0.7948717948717948\n",
      "knc with accuracy 0.7692307692307693\n"
     ]
    }
   ],
   "source": [
    "models={\n",
    "    \"svc\": SVC(),\n",
    "    \"dtc\": DecisionTreeClassifier(),\n",
    "    \"gnb\": GaussianNB(),\n",
    "    \"lr\": LogisticRegression(),\n",
    "    \"rfc\": RandomForestClassifier(),\n",
    "    \"knc\":KNeighborsClassifier(),\n",
    "}\n",
    "\n",
    "for name, model in models.items():\n",
    "    model.fit(X_train,y_train)\n",
    "    y_predict=model.predict(X_test)\n",
    "    \n",
    "    print(f\"{name} with accuracy\",accuracy_score(y_test,y_predict))\n"
   ]
  },
  {
   "cell_type": "code",
   "execution_count": 21,
   "id": "f6e38c5e",
   "metadata": {
    "execution": {
     "iopub.execute_input": "2024-07-09T05:48:14.193506Z",
     "iopub.status.busy": "2024-07-09T05:48:14.193043Z",
     "iopub.status.idle": "2024-07-09T05:48:14.206790Z",
     "shell.execute_reply": "2024-07-09T05:48:14.205554Z"
    },
    "papermill": {
     "duration": 0.029733,
     "end_time": "2024-07-09T05:48:14.209302",
     "exception": false,
     "start_time": "2024-07-09T05:48:14.179569",
     "status": "completed"
    },
    "tags": []
   },
   "outputs": [
    {
     "data": {
      "text/plain": [
       "0.8974358974358975"
      ]
     },
     "execution_count": 21,
     "metadata": {},
     "output_type": "execute_result"
    }
   ],
   "source": [
    "svc=SVC()\n",
    "svc.fit(X_train,y_train)\n",
    "y_predict=svc.predict(X_test)\n",
    "accuracy_score(y_test,y_predict)"
   ]
  },
  {
   "cell_type": "code",
   "execution_count": 23,
   "id": "367c6e54",
   "metadata": {
    "execution": {
     "iopub.execute_input": "2024-07-09T05:48:14.233211Z",
     "iopub.status.busy": "2024-07-09T05:48:14.232602Z",
     "iopub.status.idle": "2024-07-09T05:48:14.252188Z",
     "shell.execute_reply": "2024-07-09T05:48:14.250567Z"
    },
    "papermill": {
     "duration": 0.034763,
     "end_time": "2024-07-09T05:48:14.254974",
     "exception": false,
     "start_time": "2024-07-09T05:48:14.220211",
     "status": "completed"
    },
    "tags": []
   },
   "outputs": [
    {
     "name": "stdout",
     "output_type": "stream",
     "text": [
      "              precision    recall  f1-score   support\n",
      "\n",
      "           0       1.00      0.50      0.67         8\n",
      "           1       0.89      1.00      0.94        31\n",
      "\n",
      "    accuracy                           0.90        39\n",
      "   macro avg       0.94      0.75      0.80        39\n",
      "weighted avg       0.91      0.90      0.88        39\n",
      "\n"
     ]
    }
   ],
   "source": [
    "print(classification_report(y_test,y_predict))"
   ]
  },
  {
   "cell_type": "code",
   "execution_count": 24,
   "id": "02534141",
   "metadata": {
    "execution": {
     "iopub.execute_input": "2024-07-09T05:48:14.278951Z",
     "iopub.status.busy": "2024-07-09T05:48:14.278554Z",
     "iopub.status.idle": "2024-07-09T05:48:14.287845Z",
     "shell.execute_reply": "2024-07-09T05:48:14.286476Z"
    },
    "papermill": {
     "duration": 0.024629,
     "end_time": "2024-07-09T05:48:14.290754",
     "exception": false,
     "start_time": "2024-07-09T05:48:14.266125",
     "status": "completed"
    },
    "tags": []
   },
   "outputs": [
    {
     "name": "stdout",
     "output_type": "stream",
     "text": [
      "You have Parkinson Disease\n"
     ]
    }
   ],
   "source": [
    "input_data=(   0.63239631, -0.02731081, -0.87985049,  0.36806203,  0.14406765,\n",
    "        0.49280653,  0.30476869,  0.49170115, -0.3137565 , -0.32592164,\n",
    "       -0.25848708, -0.23791175, -0.33873289, -0.25879402, -0.2113724 ,\n",
    "       -0.61257363,  0.87112118,  0.24786644,  0.19888239, -0.97586547,\n",
    "       -0.55160318,  0.07769494)\n",
    "np_data=np.asanyarray(input_data)\n",
    "prediction=svc.predict(np_data.reshape(1,-1))\n",
    "\n",
    "if prediction==1:\n",
    "    print(\"You have Parkinson Disease\")\n",
    "else:\n",
    "    print(\"You do not have Parkinson Disease\")\n",
    "    \n"
   ]
  },
  {
   "cell_type": "code",
   "execution_count": 25,
   "id": "17ad7398",
   "metadata": {
    "execution": {
     "iopub.execute_input": "2024-07-09T05:48:14.314840Z",
     "iopub.status.busy": "2024-07-09T05:48:14.314389Z",
     "iopub.status.idle": "2024-07-09T05:48:14.321807Z",
     "shell.execute_reply": "2024-07-09T05:48:14.320234Z"
    },
    "papermill": {
     "duration": 0.022323,
     "end_time": "2024-07-09T05:48:14.324207",
     "exception": true,
     "start_time": "2024-07-09T05:48:14.301884",
     "status": "failed"
    },
    "tags": []
   },
   "outputs": [
    {
     "data": {
      "text/plain": [
       "(-2.2231008, -1.20119397)"
      ]
     },
     "execution_count": 25,
     "metadata": {},
     "output_type": "execute_result"
    }
   ],
   "source": [
    "#have disease\n",
    "0.63239631, -0.02731081, -0.87985049,  0.36806203,  0.14406765,\n",
    "0.49280653,  0.30476869,  0.49170115, -0.3137565 , -0.32592164,\n",
    "-0.25848708, -0.23791175, -0.33873289, -0.25879402, -0.2113724 ,\n",
    "-0.61257363,  0.87112118,  0.24786644,  0.19888239, -0.97586547,\n",
    "-0.55160318,  0.07769494\n",
    "        \n",
    "  \n",
    "        \n",
    "#no disease\n",
    "1.03983688,  0.17237666,  1.67879945, -0.83410268, -0.94428847,\n",
    "-0.73207722, -0.75558996, -0.73211087, -0.93702927, -0.90522785,\n",
    "-0.94302224, -0.83727105, -0.87945488, -0.94333241, -0.59315683,\n",
    "1.97537236, -0.29114466,  0.35627085, -1.24057161, -0.59088115,\n",
    "-2.2231008 , -1.20119397"
   ]
  },
  {
   "cell_type": "code",
   "execution_count": 27,
   "id": "c1534da4",
   "metadata": {
    "execution": {
     "iopub.execute_input": "2024-07-09T05:47:41.515764Z",
     "iopub.status.busy": "2024-07-09T05:47:41.514871Z",
     "iopub.status.idle": "2024-07-09T05:47:41.520345Z",
     "shell.execute_reply": "2024-07-09T05:47:41.519210Z",
     "shell.execute_reply.started": "2024-07-09T05:47:41.515727Z"
    },
    "papermill": {
     "duration": null,
     "end_time": null,
     "exception": null,
     "start_time": null,
     "status": "pending"
    },
    "tags": []
   },
   "outputs": [],
   "source": [
    "import pickle\n",
    "with open('model.pkl', 'wb') as file:\n",
    "    pickle.dump(svc,file)"
   ]
  }
 ],
 "metadata": {
  "kaggle": {
   "accelerator": "none",
   "dataSources": [
    {
     "datasetId": 5358003,
     "sourceId": 8910952,
     "sourceType": "datasetVersion"
    }
   ],
   "dockerImageVersionId": 30732,
   "isGpuEnabled": false,
   "isInternetEnabled": false,
   "language": "python",
   "sourceType": "notebook"
  },
  "kernelspec": {
   "display_name": "Python 3",
   "language": "python",
   "name": "python3"
  },
  "language_info": {
   "codemirror_mode": {
    "name": "ipython",
    "version": 3
   },
   "file_extension": ".py",
   "mimetype": "text/x-python",
   "name": "python",
   "nbconvert_exporter": "python",
   "pygments_lexer": "ipython3",
   "version": "3.12.1"
  },
  "papermill": {
   "default_parameters": {},
   "duration": 8.324679,
   "end_time": "2024-07-09T05:48:15.058431",
   "environment_variables": {},
   "exception": true,
   "input_path": "__notebook__.ipynb",
   "output_path": "__notebook__.ipynb",
   "parameters": {},
   "start_time": "2024-07-09T05:48:06.733752",
   "version": "2.5.0"
  }
 },
 "nbformat": 4,
 "nbformat_minor": 5
}
